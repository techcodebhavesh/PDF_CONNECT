{
 "cells": [
  {
   "cell_type": "code",
   "execution_count": 1,
   "metadata": {},
   "outputs": [],
   "source": [
    "from groq import Groq"
   ]
  },
  {
   "cell_type": "code",
   "execution_count": 12,
   "metadata": {},
   "outputs": [
    {
     "name": "stdout",
     "output_type": "stream",
     "text": [
      "**Maintain Material Master Default Values**\n",
      "\n",
      "           Maintain Material Master Default Values\n",
      "\n",
      "Plant: 1234\n",
      "Profit Center: [unclear]\n",
      "Name: [unclear]\n",
      "\n",
      "**Sales Org 1**\n",
      "\n",
      "DChan-status: Stated Lead Time\n",
      "DCStatus: Sales Lead Time\n",
      "DLCenter-status: Delivered Plant\n",
      "\n",
      "Stated Lead Time: Mr. under qty\n",
      "Market Lead Time: Min. delty qty\n",
      "Sales Lead Time: Delivery unit\n",
      "\n",
      "**Sales Org 2**\n",
      "\n",
      "Matl status group: 1\n",
      "\n",
      "AcctAsstGroupMatl: Item cat.group\n",
      "Reseller 3rd: Returnable 3rd\n",
      "Matl Transfer Rate: Sales Org 2: TPS Source 3rd\n",
      "Transfer Rate Ct: Sales Org 2: TPS Source 3rd\n",
      "Reseller 3rd: No Header Discount\n",
      "\n",
      "**Sales: general / plant**\n",
      "\n",
      "Leading group: 0001\n",
      "\n",
      "**Purchasing**\n",
      "\n",
      "Foreign trade: Exp/Imp group: 01\n",
      "Comm./imp. code: City of origin: 107\n",
      "PRODCOM no.: [unclear]\n"
     ]
    }
   ],
   "source": [
    "\n",
    "client = Groq()\n",
    "completion = client.chat.completions.create(\n",
    "    model=\"llama-3.2-11b-vision-preview\",\n",
    "    messages=[\n",
    "        {\n",
    "            \"role\": \"user\",\n",
    "            \"content\": [\n",
    "                {\n",
    "                    \"type\": \"text\",\n",
    "                    \"text\": \"\"\"Act as an OCR assistant. Analyze the provided image and:\n",
    "1. Recognize all visible text in the image as accurately as possible.\n",
    "2. Maintain the original structure and formatting of the text.\n",
    "3. If any words or phrases are unclear, indicate this with [unclear] in your transcription.\n",
    "Provide only the transcription without any additional comments.\"\"\"\n",
    "                },\n",
    "                {\n",
    "                    \"type\": \"image_url\",\n",
    "                    \"image_url\": {\n",
    "                        \"url\": \"https://dev.mydigicardmanager.com/te_images/sample_image_2.png\"\n",
    "                    }\n",
    "                }\n",
    "            ]\n",
    "        }\n",
    "    ],\n",
    "    temperature=1,\n",
    "    top_p=1,\n",
    "    stream=False,\n",
    "    stop=None,\n",
    ")\n",
    "\n",
    "print(completion.choices[0].message.content)\n"
   ]
  }
 ],
 "metadata": {
  "kernelspec": {
   "display_name": "Python 3",
   "language": "python",
   "name": "python3"
  },
  "language_info": {
   "codemirror_mode": {
    "name": "ipython",
    "version": 3
   },
   "file_extension": ".py",
   "mimetype": "text/x-python",
   "name": "python",
   "nbconvert_exporter": "python",
   "pygments_lexer": "ipython3",
   "version": "3.12.4"
  }
 },
 "nbformat": 4,
 "nbformat_minor": 2
}
